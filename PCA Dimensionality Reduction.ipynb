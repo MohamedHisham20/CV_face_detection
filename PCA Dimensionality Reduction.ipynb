{
 "cells": [
  {
   "cell_type": "code",
   "id": "initial_id",
   "metadata": {
    "collapsed": true,
    "ExecuteTime": {
     "end_time": "2025-05-12T22:08:11.989952Z",
     "start_time": "2025-05-12T22:08:11.905343Z"
    }
   },
   "source": [
    "import numpy as np\n",
    "from CustomPCA import Custom_PCA"
   ],
   "outputs": [],
   "execution_count": 1
  },
  {
   "metadata": {
    "ExecuteTime": {
     "end_time": "2025-05-12T22:08:15.518006Z",
     "start_time": "2025-05-12T22:08:12.000690Z"
    }
   },
   "cell_type": "code",
   "source": "from loading import loading",
   "id": "35927e185a38c530",
   "outputs": [],
   "execution_count": 2
  },
  {
   "metadata": {
    "ExecuteTime": {
     "end_time": "2025-05-12T22:08:41.820714Z",
     "start_time": "2025-05-12T22:08:15.605155Z"
    }
   },
   "cell_type": "code",
   "source": [
    "training_path = \"FEI_faces/\"\n",
    "testing_path = \"FEI_testing/\"\n",
    "\n",
    "X_train, y_train, X_test, y_test, label_map, X_test_files = loading.load_dataset(training_path, testing_path) "
   ],
   "id": "3dc51c091d1933bc",
   "outputs": [
    {
     "name": "stdout",
     "output_type": "stream",
     "text": [
      "Loaded 628 training faces.\n",
      "Loaded 100 testing faces.\n"
     ]
    }
   ],
   "execution_count": 3
  },
  {
   "metadata": {
    "ExecuteTime": {
     "end_time": "2025-05-12T22:08:41.895991Z",
     "start_time": "2025-05-12T22:08:41.881926Z"
    }
   },
   "cell_type": "code",
   "source": [
    "X_train_flattened = X_train.reshape(X_train.shape[0], -1)\n",
    "X_train_flattened.shape"
   ],
   "id": "bebeb39dbda99938",
   "outputs": [
    {
     "data": {
      "text/plain": [
       "(628, 10000)"
      ]
     },
     "execution_count": 4,
     "metadata": {},
     "output_type": "execute_result"
    }
   ],
   "execution_count": 4
  },
  {
   "metadata": {
    "ExecuteTime": {
     "end_time": "2025-05-12T22:08:41.954256Z",
     "start_time": "2025-05-12T22:08:41.947698Z"
    }
   },
   "cell_type": "code",
   "source": [
    "# count the number of unique labels\n",
    "unique_labels = np.unique(y_train)\n",
    "print(f\"Number of unique labels: {len(unique_labels)}\")\n",
    "print(f\"Count of each label: {np.bincount(y_train)}\")"
   ],
   "id": "e94913874bfcbaa9",
   "outputs": [
    {
     "name": "stdout",
     "output_type": "stream",
     "text": [
      "Number of unique labels: 50\n",
      "Count of each label: [12 12 14 13 12 12 13 13 12 12 13 12 11 12 11 12 11 12 13 11 11 11 12 11\n",
      " 13 13 12 12 12 13 11 11 12 13 12 20 30 12 12 13 13 12 10 11 12 10 11 14\n",
      " 13 13]\n"
     ]
    }
   ],
   "execution_count": 5
  },
  {
   "metadata": {
    "ExecuteTime": {
     "end_time": "2025-05-12T22:08:42.007440Z",
     "start_time": "2025-05-12T22:08:42.001224Z"
    }
   },
   "cell_type": "code",
   "source": "label_map",
   "id": "179928600acfbeb2",
   "outputs": [
    {
     "data": {
      "text/plain": [
       "{'1': 0,\n",
       " '10': 1,\n",
       " '11': 2,\n",
       " '12': 3,\n",
       " '13': 4,\n",
       " '14': 5,\n",
       " '15': 6,\n",
       " '16': 7,\n",
       " '17': 8,\n",
       " '18': 9,\n",
       " '19': 10,\n",
       " '2': 11,\n",
       " '20': 12,\n",
       " '21': 13,\n",
       " '22': 14,\n",
       " '23': 15,\n",
       " '24': 16,\n",
       " '25': 17,\n",
       " '26': 18,\n",
       " '27': 19,\n",
       " '28': 20,\n",
       " '29': 21,\n",
       " '3': 22,\n",
       " '30': 23,\n",
       " '31': 24,\n",
       " '32': 25,\n",
       " '33': 26,\n",
       " '34': 27,\n",
       " '35': 28,\n",
       " '36': 29,\n",
       " '37': 30,\n",
       " '38': 31,\n",
       " '39': 32,\n",
       " '4': 33,\n",
       " '40': 34,\n",
       " '41': 35,\n",
       " '42': 36,\n",
       " '43': 37,\n",
       " '44': 38,\n",
       " '45': 39,\n",
       " '46': 40,\n",
       " '47': 41,\n",
       " '48': 42,\n",
       " '49': 43,\n",
       " '5': 44,\n",
       " '50': 45,\n",
       " '6': 46,\n",
       " '7': 47,\n",
       " '8': 48,\n",
       " '9': 49}"
      ]
     },
     "execution_count": 6,
     "metadata": {},
     "output_type": "execute_result"
    }
   ],
   "execution_count": 6
  },
  {
   "metadata": {
    "ExecuteTime": {
     "end_time": "2025-05-12T22:13:14.893819Z",
     "start_time": "2025-05-12T22:13:13.888365Z"
    }
   },
   "cell_type": "code",
   "source": [
    "custom_pca = Custom_PCA()\n",
    "fitted_X_train = custom_pca.fit_transform(X_train_flattened)"
   ],
   "id": "a574686128b9bd30",
   "outputs": [
    {
     "name": "stdout",
     "output_type": "stream",
     "text": [
      "Using 73 components to explain 95.0% of the variance.\n",
      "Corrected explained variance ratio: [0.29598666 0.2466066  0.08713368 0.05067444 0.03723571 0.02985283\n",
      " 0.02374954 0.01428626 0.01184406 0.01022928 0.00952454 0.0094228\n",
      " 0.00775422 0.00712123 0.00638067 0.00567848 0.00520763 0.0045012\n",
      " 0.0043789  0.00395752 0.00372443 0.00353106 0.0032715  0.00310083\n",
      " 0.00282586 0.00270317 0.00265798 0.00247188 0.0024561  0.00229887\n",
      " 0.0020911  0.00205087 0.00200586 0.00190341 0.00181052 0.00177175\n",
      " 0.00174125 0.00172079 0.00159475 0.00150219 0.00148843 0.00145106\n",
      " 0.00137313 0.00130651 0.00129335 0.00124285 0.00119104 0.00115296\n",
      " 0.00114758 0.00110793 0.00108471 0.00104898 0.00102734 0.00100737\n",
      " 0.00097152 0.00095016 0.00092065 0.00090533 0.00085027 0.00084365\n",
      " 0.00081141 0.00080329 0.00079588 0.00077507 0.00075642 0.00074687\n",
      " 0.00072816 0.00070637 0.00069634 0.00066941 0.000655   0.00063548\n",
      " 0.00062309]\n"
     ]
    }
   ],
   "execution_count": 14
  },
  {
   "metadata": {
    "ExecuteTime": {
     "end_time": "2025-05-12T22:14:00.946538Z",
     "start_time": "2025-05-12T22:14:00.812981Z"
    }
   },
   "cell_type": "code",
   "source": [
    "import matplotlib.pyplot as plt\n",
    "\n",
    "fun_image = np.ones(custom_pca.n_components)\n",
    "image_ = custom_pca.inverse_transform(fun_image)\n",
    "image_ = image_.reshape(100, 100)\n",
    "plt.imshow(image_, cmap='gray')\n",
    "plt.axis('off')\n",
    "plt.title('All faces known to man')\n",
    "plt.show()"
   ],
   "id": "53d734464212b049",
   "outputs": [
    {
     "data": {
      "text/plain": [
       "<Figure size 640x480 with 1 Axes>"
      ],
      "image/png": "[encoded data removed]"
     },
     "metadata": {},
     "output_type": "display_data"
    }
   ],
   "execution_count": 17
  },
  {
   "metadata": {
    "ExecuteTime": {
     "end_time": "2025-05-12T18:06:49.654346Z",
     "start_time": "2025-05-12T18:06:49.574195Z"
    }
   },
   "cell_type": "code",
   "source": [
    "custom_pca.save(\"pca_model.npz\")\n",
    "np.savez(\"fitted_X_train.npz\", fitted_X_train=fitted_X_train)\n",
    "np.savez(\"y_train.npz\", y_train=y_train)"
   ],
   "id": "171f1e401c5ae132",
   "outputs": [
    {
     "name": "stdout",
     "output_type": "stream",
     "text": [
      "Saved 73 components to pca_model.npz\n"
     ]
    }
   ],
   "execution_count": 10
  },
  {
   "metadata": {
    "ExecuteTime": {
     "end_time": "2025-05-12T18:07:33.671991Z",
     "start_time": "2025-05-12T18:07:33.572172Z"
    }
   },
   "cell_type": "code",
   "source": [
    "custom_pca.load(\"pca_model.npz\")\n",
    "custom_pca.components_.shape"
   ],
   "id": "a5c9ab336f62af3c",
   "outputs": [
    {
     "name": "stdout",
     "output_type": "stream",
     "text": [
      "Loaded 10000 components from pca_model.npz\n"
     ]
    },
    {
     "data": {
      "text/plain": [
       "(10000, 73)"
      ]
     },
     "execution_count": 11,
     "metadata": {},
     "output_type": "execute_result"
    }
   ],
   "execution_count": 11
  },
  {
   "metadata": {},
   "cell_type": "code",
   "outputs": [],
   "execution_count": null,
   "source": "",
   "id": "d7f087db1e73564f"
  }
 ],
 "metadata": {
  "kernelspec": {
   "display_name": "Python 3",
   "language": "python",
   "name": "python3"
  },
  "language_info": {
   "codemirror_mode": {
    "name": "ipython",
    "version": 2
   },
   "file_extension": ".py",
   "mimetype": "text/x-python",
   "name": "python",
   "nbconvert_exporter": "python",
   "pygments_lexer": "ipython2",
   "version": "2.7.6"
  }
 },
 "nbformat": 4,
 "nbformat_minor": 5
}
