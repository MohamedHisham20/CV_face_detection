{
 "cells": [
  {
   "cell_type": "code",
   "id": "initial_id",
   "metadata": {
    "collapsed": true,
    "ExecuteTime": {
     "end_time": "2025-05-12T17:39:12.870826Z",
     "start_time": "2025-05-12T17:39:12.774958Z"
    }
   },
   "source": [
    "import numpy as np\n",
    "from CustomPCA import Custom_PCA"
   ],
   "outputs": [],
   "execution_count": 1
  },
  {
   "metadata": {
    "ExecuteTime": {
     "end_time": "2025-05-12T17:46:37.370511Z",
     "start_time": "2025-05-12T17:46:34.661861Z"
    }
   },
   "cell_type": "code",
   "source": "from loading import loading",
   "id": "35927e185a38c530",
   "outputs": [],
   "execution_count": 2
  },
  {
   "metadata": {
    "ExecuteTime": {
     "end_time": "2025-05-12T17:48:27.423006Z",
     "start_time": "2025-05-12T17:48:04.169932Z"
    }
   },
   "cell_type": "code",
   "source": [
    "training_path = \"FEI_faces/\"\n",
    "testing_path = \"FEI_testing/\"\n",
    "\n",
    "X_train, y_train, X_test, y_test, label_map, X_test_files = loading.load_dataset(training_path, testing_path) "
   ],
   "id": "3dc51c091d1933bc",
   "outputs": [
    {
     "name": "stdout",
     "output_type": "stream",
     "text": [
      "Loaded 628 training faces.\n",
      "Loaded 100 testing faces.\n"
     ]
    }
   ],
   "execution_count": 3
  },
  {
   "metadata": {
    "ExecuteTime": {
     "end_time": "2025-05-12T18:05:00.954470Z",
     "start_time": "2025-05-12T18:05:00.938072Z"
    }
   },
   "cell_type": "code",
   "source": [
    "X_train_flattened = X_train.reshape(X_train.shape[0], -1)\n",
    "X_train_flattened.shape"
   ],
   "id": "bebeb39dbda99938",
   "outputs": [
    {
     "data": {
      "text/plain": [
       "(628, 10000)"
      ]
     },
     "execution_count": 7,
     "metadata": {},
     "output_type": "execute_result"
    }
   ],
   "execution_count": 7
  },
  {
   "metadata": {
    "ExecuteTime": {
     "end_time": "2025-05-12T18:18:50.114380Z",
     "start_time": "2025-05-12T18:18:50.088118Z"
    }
   },
   "cell_type": "code",
   "source": [
    "# count the number of unique labels\n",
    "unique_labels = np.unique(y_train)\n",
    "print(f\"Number of unique labels: {len(unique_labels)}\")\n",
    "print(f\"Count of each label: {np.bincount(y_train)}\")"
   ],
   "id": "e94913874bfcbaa9",
   "outputs": [
    {
     "name": "stdout",
     "output_type": "stream",
     "text": [
      "Number of unique labels: 50\n",
      "Count of each label: [12 12 14 13 12 12 13 13 12 12 13 12 11 12 11 12 11 12 13 11 11 11 12 11\n",
      " 13 13 12 12 12 13 11 11 12 13 12 20 30 12 12 13 13 12 10 11 12 10 11 14\n",
      " 13 13]\n"
     ]
    }
   ],
   "execution_count": 15
  },
  {
   "metadata": {
    "ExecuteTime": {
     "end_time": "2025-05-12T18:15:56.955844Z",
     "start_time": "2025-05-12T18:15:56.939246Z"
    }
   },
   "cell_type": "code",
   "source": "label_map",
   "id": "179928600acfbeb2",
   "outputs": [
    {
     "data": {
      "text/plain": [
       "{'1': 0,\n",
       " '10': 1,\n",
       " '11': 2,\n",
       " '12': 3,\n",
       " '13': 4,\n",
       " '14': 5,\n",
       " '15': 6,\n",
       " '16': 7,\n",
       " '17': 8,\n",
       " '18': 9,\n",
       " '19': 10,\n",
       " '2': 11,\n",
       " '20': 12,\n",
       " '21': 13,\n",
       " '22': 14,\n",
       " '23': 15,\n",
       " '24': 16,\n",
       " '25': 17,\n",
       " '26': 18,\n",
       " '27': 19,\n",
       " '28': 20,\n",
       " '29': 21,\n",
       " '3': 22,\n",
       " '30': 23,\n",
       " '31': 24,\n",
       " '32': 25,\n",
       " '33': 26,\n",
       " '34': 27,\n",
       " '35': 28,\n",
       " '36': 29,\n",
       " '37': 30,\n",
       " '38': 31,\n",
       " '39': 32,\n",
       " '4': 33,\n",
       " '40': 34,\n",
       " '41': 35,\n",
       " '42': 36,\n",
       " '43': 37,\n",
       " '44': 38,\n",
       " '45': 39,\n",
       " '46': 40,\n",
       " '47': 41,\n",
       " '48': 42,\n",
       " '49': 43,\n",
       " '5': 44,\n",
       " '50': 45,\n",
       " '6': 46,\n",
       " '7': 47,\n",
       " '8': 48,\n",
       " '9': 49}"
      ]
     },
     "execution_count": 14,
     "metadata": {},
     "output_type": "execute_result"
    }
   ],
   "execution_count": 14
  },
  {
   "metadata": {
    "ExecuteTime": {
     "end_time": "2025-05-12T18:05:39.170236Z",
     "start_time": "2025-05-12T18:05:38.326514Z"
    }
   },
   "cell_type": "code",
   "source": [
    "custom_pca = Custom_PCA()\n",
    "fitted_X_train = custom_pca.fit_transform(X_train_flattened)"
   ],
   "id": "a574686128b9bd30",
   "outputs": [
    {
     "name": "stdout",
     "output_type": "stream",
     "text": [
      "(10000, 628)\n",
      "Using 73 components to explain 95.0% of the variance.\n"
     ]
    }
   ],
   "execution_count": 9
  },
  {
   "metadata": {
    "ExecuteTime": {
     "end_time": "2025-05-12T18:06:49.654346Z",
     "start_time": "2025-05-12T18:06:49.574195Z"
    }
   },
   "cell_type": "code",
   "source": [
    "custom_pca.save(\"pca_model.npz\")\n",
    "np.savez(\"fitted_X_train.npz\", fitted_X_train=fitted_X_train)\n",
    "np.savez(\"y_train.npz\", y_train=y_train)"
   ],
   "id": "171f1e401c5ae132",
   "outputs": [
    {
     "name": "stdout",
     "output_type": "stream",
     "text": [
      "Saved 73 components to pca_model.npz\n"
     ]
    }
   ],
   "execution_count": 10
  },
  {
   "metadata": {
    "ExecuteTime": {
     "end_time": "2025-05-12T18:07:33.671991Z",
     "start_time": "2025-05-12T18:07:33.572172Z"
    }
   },
   "cell_type": "code",
   "source": [
    "custom_pca.load(\"pca_model.npz\")\n",
    "custom_pca.components_.shape"
   ],
   "id": "a5c9ab336f62af3c",
   "outputs": [
    {
     "name": "stdout",
     "output_type": "stream",
     "text": [
      "Loaded 10000 components from pca_model.npz\n"
     ]
    },
    {
     "data": {
      "text/plain": [
       "(10000, 73)"
      ]
     },
     "execution_count": 11,
     "metadata": {},
     "output_type": "execute_result"
    }
   ],
   "execution_count": 11
  },
  {
   "metadata": {},
   "cell_type": "code",
   "outputs": [],
   "execution_count": null,
   "source": "",
   "id": "d7f087db1e73564f"
  }
 ],
 "metadata": {
  "kernelspec": {
   "display_name": "Python 3",
   "language": "python",
   "name": "python3"
  },
  "language_info": {
   "codemirror_mode": {
    "name": "ipython",
    "version": 2
   },
   "file_extension": ".py",
   "mimetype": "text/x-python",
   "name": "python",
   "nbconvert_exporter": "python",
   "pygments_lexer": "ipython2",
   "version": "2.7.6"
  }
 },
 "nbformat": 4,
 "nbformat_minor": 5
}
