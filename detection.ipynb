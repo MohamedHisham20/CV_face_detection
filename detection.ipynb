{
 "nbformat": 4,
 "nbformat_minor": 0,
 "metadata": {
  "colab": {
   "provenance": []
  },
  "kernelspec": {
   "name": "python3",
   "display_name": "Python 3 (ipykernel)",
   "language": "python"
  },
  "language_info": {
   "name": "python"
  }
 },
 "cells": [
  {
   "cell_type": "code",
   "source": [
    "##mounting drive\n",
    "from google.colab import drive\n",
    "drive.mount('/content/drive')"
   ],
   "metadata": {
    "colab": {
     "base_uri": "https://localhost:8080/"
    },
    "id": "_F6NZcwjbFvO",
    "outputId": "8d3064da-8a18-4846-9e73-10caf02e3de1",
    "ExecuteTime": {
     "end_time": "2025-05-12T14:44:36.464256Z",
     "start_time": "2025-05-12T14:44:36.327324Z"
    }
   },
   "outputs": [
    {
     "ename": "ModuleNotFoundError",
     "evalue": "No module named 'google'",
     "output_type": "error",
     "traceback": [
      "\u001B[0;31m---------------------------------------------------------------------------\u001B[0m",
      "\u001B[0;31mModuleNotFoundError\u001B[0m                       Traceback (most recent call last)",
      "Cell \u001B[0;32mIn[1], line 2\u001B[0m\n\u001B[1;32m      1\u001B[0m \u001B[38;5;66;03m##mounting drive\u001B[39;00m\n\u001B[0;32m----> 2\u001B[0m \u001B[38;5;28;01mfrom\u001B[39;00m\u001B[38;5;250m \u001B[39m\u001B[38;5;21;01mgoogle\u001B[39;00m\u001B[38;5;21;01m.\u001B[39;00m\u001B[38;5;21;01mcolab\u001B[39;00m\u001B[38;5;250m \u001B[39m\u001B[38;5;28;01mimport\u001B[39;00m drive\n\u001B[1;32m      3\u001B[0m drive\u001B[38;5;241m.\u001B[39mmount(\u001B[38;5;124m'\u001B[39m\u001B[38;5;124m/content/drive\u001B[39m\u001B[38;5;124m'\u001B[39m)\n",
      "\u001B[0;31mModuleNotFoundError\u001B[0m: No module named 'google'"
     ]
    }
   ],
   "execution_count": 1
  },
  {
   "cell_type": "code",
   "source": [
    "def detect_face(image_path, img_size=(92, 112), scaleFactor=1.1, minNeighbors=5):\n",
    "    face_cascade = cv2.CascadeClassifier(cv2.data.haarcascades + \"haarcascade_frontalface_default.xml\")\n",
    "\n",
    "    img = cv2.imread(image_path)\n",
    "    if img is None:\n",
    "        print(f\"Error: Could not load image {image_path}\")\n",
    "        return None\n",
    "\n",
    "    gray = cv2.cvtColor(img, cv2.COLOR_BGR2GRAY)\n",
    "    faces = face_cascade.detectMultiScale(gray, scaleFactor=scaleFactor, minNeighbors=minNeighbors)\n",
    "\n",
    "    if len(faces) == 0:\n",
    "        # print(f\"No face detected in {image_path}\")\n",
    "        return None\n",
    "\n",
    "    # Assume largest face is the correct one\n",
    "    x, y, w, h = max(faces, key=lambda f: f[2]*f[3])\n",
    "    face = gray[y:y+h, x:x+w]\n",
    "    face_resized = cv2.resize(face, img_size)\n",
    "\n",
    "    return face_resized\n"
   ],
   "metadata": {
    "id": "-JN1rP3dHv57",
    "ExecuteTime": {
     "end_time": "2025-05-12T14:44:46.658961Z",
     "start_time": "2025-05-12T14:44:46.651615Z"
    }
   },
   "outputs": [],
   "execution_count": 2
  },
  {
   "cell_type": "code",
   "source": [
    "import os\n",
    "import cv2\n",
    "import numpy as np\n",
    "from sklearn.model_selection import train_test_split\n",
    "from collections import defaultdict\n",
    "\n",
    "def extract_subject_id(filename):\n",
    "    return filename.split('-')[0]\n",
    "\n",
    "def load_dataset(train_dir, test_dir, image_size=(100, 100)):\n",
    "    X_train, y_train = [], []\n",
    "    X_test, y_test = [], []\n",
    "    x_test_paths = []\n",
    "\n",
    "    label_map = {}\n",
    "    label_counter = 0\n",
    "\n",
    "    def process_folder(folder, is_train=True):\n",
    "        nonlocal label_counter\n",
    "        X, y, paths = [], [], []\n",
    "\n",
    "        for fname in sorted(os.listdir(folder)):\n",
    "            if not fname.lower().endswith(('.jpg', '.png', '.jpeg')):\n",
    "                continue\n",
    "\n",
    "            subject_id = extract_subject_id(fname)\n",
    "            if subject_id not in label_map:\n",
    "                label_map[subject_id] = label_counter\n",
    "                label_counter += 1\n",
    "            label = label_map[subject_id]\n",
    "\n",
    "            img_path = os.path.join(folder, fname)\n",
    "            image = cv2.imread(img_path)\n",
    "            if image is None:\n",
    "                print(f\"Failed to read {img_path}\")\n",
    "                continue\n",
    "\n",
    "            face = detect_face(img_path)\n",
    "            if face is None:\n",
    "                # print(f\"No face found in {img_path}\")\n",
    "                continue\n",
    "\n",
    "            face_resized = cv2.resize(face, image_size)\n",
    "            X.append(face_resized)\n",
    "            y.append(label)\n",
    "            paths.append(img_path)\n",
    "\n",
    "        return X, y, paths\n",
    "\n",
    "    X_train, y_train, _ = process_folder(train_dir, is_train=True)\n",
    "    X_test, y_test, x_test_paths = process_folder(test_dir, is_train=False)\n",
    "\n",
    "    print(f\"Loaded {len(X_train)} training faces.\")\n",
    "    print(f\"Loaded {len(X_test)} testing faces.\")\n",
    "    return (np.array(X_train), np.array(y_train),\n",
    "            np.array(X_test), np.array(y_test),\n",
    "            label_map, x_test_paths)\n"
   ],
   "metadata": {
    "id": "CjDPFMbHDhQC",
    "ExecuteTime": {
     "end_time": "2025-05-12T14:44:50.852783Z",
     "start_time": "2025-05-12T14:44:47.851405Z"
    }
   },
   "outputs": [],
   "execution_count": 3
  },
  {
   "cell_type": "code",
   "source": [
    "dataset_path = \"/content/drive/Shared with me/FEI_faces\"\n",
    "testing_path = \"/content/drive/Shared with me/FEI_testing\"\n",
    "X_train, y_train, X_test, y_test, label_map, X_test_files = load_dataset(dataset_path, testing_path)\n",
    "\n",
    "print(f\"Train samples: {len(X_train)}\")\n",
    "print(f\"Test samples: {len(X_test)}\")\n",
    "print(f\"Subjects found: {len(label_map)}\")\n",
    "print(f\"Example label map: {label_map}\")\n"
   ],
   "metadata": {
    "colab": {
     "base_uri": "https://localhost:8080/"
    },
    "id": "_a5Mnh-GD_3l",
    "outputId": "3e331741-542a-4220-8d0b-97d316c4d11e",
    "ExecuteTime": {
     "end_time": "2025-05-12T14:47:05.501360Z",
     "start_time": "2025-05-12T14:47:05.405456Z"
    }
   },
   "outputs": [
    {
     "ename": "FileNotFoundError",
     "evalue": "[Errno 2] No such file or directory: '/content/drive/Shared with me/FEI_faces'",
     "output_type": "error",
     "traceback": [
      "\u001B[0;31m---------------------------------------------------------------------------\u001B[0m",
      "\u001B[0;31mFileNotFoundError\u001B[0m                         Traceback (most recent call last)",
      "Cell \u001B[0;32mIn[5], line 3\u001B[0m\n\u001B[1;32m      1\u001B[0m dataset_path \u001B[38;5;241m=\u001B[39m \u001B[38;5;124m\"\u001B[39m\u001B[38;5;124m/content/drive/Shared with me/FEI_faces\u001B[39m\u001B[38;5;124m\"\u001B[39m\n\u001B[1;32m      2\u001B[0m testing_path \u001B[38;5;241m=\u001B[39m \u001B[38;5;124m\"\u001B[39m\u001B[38;5;124m/content/drive/Shared with me/FEI_testing\u001B[39m\u001B[38;5;124m\"\u001B[39m\n\u001B[0;32m----> 3\u001B[0m X_train, y_train, X_test, y_test, label_map, X_test_files \u001B[38;5;241m=\u001B[39m \u001B[43mload_dataset\u001B[49m\u001B[43m(\u001B[49m\u001B[43mdataset_path\u001B[49m\u001B[43m,\u001B[49m\u001B[43m \u001B[49m\u001B[43mtesting_path\u001B[49m\u001B[43m)\u001B[49m\n\u001B[1;32m      5\u001B[0m \u001B[38;5;28mprint\u001B[39m(\u001B[38;5;124mf\u001B[39m\u001B[38;5;124m\"\u001B[39m\u001B[38;5;124mTrain samples: \u001B[39m\u001B[38;5;132;01m{\u001B[39;00m\u001B[38;5;28mlen\u001B[39m(X_train)\u001B[38;5;132;01m}\u001B[39;00m\u001B[38;5;124m\"\u001B[39m)\n\u001B[1;32m      6\u001B[0m \u001B[38;5;28mprint\u001B[39m(\u001B[38;5;124mf\u001B[39m\u001B[38;5;124m\"\u001B[39m\u001B[38;5;124mTest samples: \u001B[39m\u001B[38;5;132;01m{\u001B[39;00m\u001B[38;5;28mlen\u001B[39m(X_test)\u001B[38;5;132;01m}\u001B[39;00m\u001B[38;5;124m\"\u001B[39m)\n",
      "Cell \u001B[0;32mIn[3], line 50\u001B[0m, in \u001B[0;36mload_dataset\u001B[0;34m(train_dir, test_dir, image_size)\u001B[0m\n\u001B[1;32m     46\u001B[0m         paths\u001B[38;5;241m.\u001B[39mappend(img_path)\n\u001B[1;32m     48\u001B[0m     \u001B[38;5;28;01mreturn\u001B[39;00m X, y, paths\n\u001B[0;32m---> 50\u001B[0m X_train, y_train, _ \u001B[38;5;241m=\u001B[39m \u001B[43mprocess_folder\u001B[49m\u001B[43m(\u001B[49m\u001B[43mtrain_dir\u001B[49m\u001B[43m,\u001B[49m\u001B[43m \u001B[49m\u001B[43mis_train\u001B[49m\u001B[38;5;241;43m=\u001B[39;49m\u001B[38;5;28;43;01mTrue\u001B[39;49;00m\u001B[43m)\u001B[49m\n\u001B[1;32m     51\u001B[0m X_test, y_test, x_test_paths \u001B[38;5;241m=\u001B[39m process_folder(test_dir, is_train\u001B[38;5;241m=\u001B[39m\u001B[38;5;28;01mFalse\u001B[39;00m)\n\u001B[1;32m     53\u001B[0m \u001B[38;5;28mprint\u001B[39m(\u001B[38;5;124mf\u001B[39m\u001B[38;5;124m\"\u001B[39m\u001B[38;5;124mLoaded \u001B[39m\u001B[38;5;132;01m{\u001B[39;00m\u001B[38;5;28mlen\u001B[39m(X_train)\u001B[38;5;132;01m}\u001B[39;00m\u001B[38;5;124m training faces.\u001B[39m\u001B[38;5;124m\"\u001B[39m)\n",
      "Cell \u001B[0;32mIn[3], line 22\u001B[0m, in \u001B[0;36mload_dataset.<locals>.process_folder\u001B[0;34m(folder, is_train)\u001B[0m\n\u001B[1;32m     19\u001B[0m \u001B[38;5;28;01mnonlocal\u001B[39;00m label_counter\n\u001B[1;32m     20\u001B[0m X, y, paths \u001B[38;5;241m=\u001B[39m [], [], []\n\u001B[0;32m---> 22\u001B[0m \u001B[38;5;28;01mfor\u001B[39;00m fname \u001B[38;5;129;01min\u001B[39;00m \u001B[38;5;28msorted\u001B[39m(\u001B[43mos\u001B[49m\u001B[38;5;241;43m.\u001B[39;49m\u001B[43mlistdir\u001B[49m\u001B[43m(\u001B[49m\u001B[43mfolder\u001B[49m\u001B[43m)\u001B[49m):\n\u001B[1;32m     23\u001B[0m     \u001B[38;5;28;01mif\u001B[39;00m \u001B[38;5;129;01mnot\u001B[39;00m fname\u001B[38;5;241m.\u001B[39mlower()\u001B[38;5;241m.\u001B[39mendswith((\u001B[38;5;124m'\u001B[39m\u001B[38;5;124m.jpg\u001B[39m\u001B[38;5;124m'\u001B[39m, \u001B[38;5;124m'\u001B[39m\u001B[38;5;124m.png\u001B[39m\u001B[38;5;124m'\u001B[39m, \u001B[38;5;124m'\u001B[39m\u001B[38;5;124m.jpeg\u001B[39m\u001B[38;5;124m'\u001B[39m)):\n\u001B[1;32m     24\u001B[0m         \u001B[38;5;28;01mcontinue\u001B[39;00m\n",
      "\u001B[0;31mFileNotFoundError\u001B[0m: [Errno 2] No such file or directory: '/content/drive/Shared with me/FEI_faces'"
     ]
    }
   ],
   "execution_count": 5
  },
  {
   "cell_type": "code",
   "source": [
    "print(X_test_files)"
   ],
   "metadata": {
    "colab": {
     "base_uri": "https://localhost:8080/"
    },
    "id": "Nf9Z22xeJRqz",
    "outputId": "52c74991-ea08-45ed-aa6d-ef77ac145598",
    "ExecuteTime": {
     "end_time": "2025-05-12T14:47:07.977491Z",
     "start_time": "2025-05-12T14:47:07.960831Z"
    }
   },
   "outputs": [
    {
     "ename": "NameError",
     "evalue": "name 'X_test_files' is not defined",
     "output_type": "error",
     "traceback": [
      "\u001B[0;31m---------------------------------------------------------------------------\u001B[0m",
      "\u001B[0;31mNameError\u001B[0m                                 Traceback (most recent call last)",
      "Cell \u001B[0;32mIn[6], line 1\u001B[0m\n\u001B[0;32m----> 1\u001B[0m \u001B[38;5;28mprint\u001B[39m(\u001B[43mX_test_files\u001B[49m)\n",
      "\u001B[0;31mNameError\u001B[0m: name 'X_test_files' is not defined"
     ]
    }
   ],
   "execution_count": 6
  },
  {
   "cell_type": "code",
   "source": [
    "## testing detection on test images bc they aren't cropped yet\n",
    "image_path = X_test_files[17]  # Pick one test image\n",
    "detected_face = detect_face(image_path)\n",
    "\n",
    "if detected_face is not None:\n",
    "    import matplotlib.pyplot as plt\n",
    "    plt.figure(figsize=(10, 5))\n",
    "    plt.subplot(1, 2, 1)\n",
    "    plt.imshow(cv2.cvtColor(cv2.imread(image_path), cv2.COLOR_BGR2RGB))\n",
    "    plt.title(f\"Original Image - {image_path}\")\n",
    "    plt.axis('off')\n",
    "    plt.subplot(1, 2, 2)\n",
    "    plt.imshow(detected_face, cmap='gray')\n",
    "    plt.title(\"Detected Face\")\n",
    "    plt.axis('off')\n",
    "    plt.show()\n"
   ],
   "metadata": {
    "colab": {
     "base_uri": "https://localhost:8080/",
     "height": 444
    },
    "id": "F1Nu42tIH3vs",
    "outputId": "284bb9a4-63b4-4971-d819-a6d649780f9d",
    "ExecuteTime": {
     "end_time": "2025-05-12T14:47:10.357974Z",
     "start_time": "2025-05-12T14:47:10.314639Z"
    }
   },
   "outputs": [
    {
     "ename": "NameError",
     "evalue": "name 'X_test_files' is not defined",
     "output_type": "error",
     "traceback": [
      "\u001B[0;31m---------------------------------------------------------------------------\u001B[0m",
      "\u001B[0;31mNameError\u001B[0m                                 Traceback (most recent call last)",
      "Cell \u001B[0;32mIn[7], line 2\u001B[0m\n\u001B[1;32m      1\u001B[0m \u001B[38;5;66;03m## testing detection on test images bc they aren't cropped yet\u001B[39;00m\n\u001B[0;32m----> 2\u001B[0m image_path \u001B[38;5;241m=\u001B[39m \u001B[43mX_test_files\u001B[49m[\u001B[38;5;241m17\u001B[39m]  \u001B[38;5;66;03m# Pick one test image\u001B[39;00m\n\u001B[1;32m      3\u001B[0m detected_face \u001B[38;5;241m=\u001B[39m detect_face(image_path)\n\u001B[1;32m      5\u001B[0m \u001B[38;5;28;01mif\u001B[39;00m detected_face \u001B[38;5;129;01mis\u001B[39;00m \u001B[38;5;129;01mnot\u001B[39;00m \u001B[38;5;28;01mNone\u001B[39;00m:\n",
      "\u001B[0;31mNameError\u001B[0m: name 'X_test_files' is not defined"
     ]
    }
   ],
   "execution_count": 7
  },
  {
   "metadata": {
    "jupyter": {
     "is_executing": true
    }
   },
   "cell_type": "code",
   "source": "",
   "outputs": [],
   "execution_count": null
  },
  {
   "metadata": {},
   "cell_type": "code",
   "outputs": [],
   "execution_count": null,
   "source": ""
  }
 ]
}
